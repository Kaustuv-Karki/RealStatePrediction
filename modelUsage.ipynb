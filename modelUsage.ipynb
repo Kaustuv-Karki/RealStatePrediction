{
 "cells": [
  {
   "cell_type": "code",
   "execution_count": 3,
   "id": "2ef52771",
   "metadata": {},
   "outputs": [],
   "source": [
    "from joblib import load, dump\n",
    "import numpy as np"
   ]
  },
  {
   "cell_type": "code",
   "execution_count": 4,
   "id": "d2d4c9ed",
   "metadata": {},
   "outputs": [],
   "source": [
    "model = load(\"RealState.joblib\")"
   ]
  },
  {
   "cell_type": "code",
   "execution_count": 5,
   "id": "d498320e",
   "metadata": {},
   "outputs": [
    {
     "data": {
      "text/plain": [
       "array([22.484, 25.323, 16.29 , 23.479, 23.573])"
      ]
     },
     "execution_count": 5,
     "metadata": {},
     "output_type": "execute_result"
    }
   ],
   "source": [
    "model.predict(np.array([[-0.43942006,  3.12628155, -1.12165014, -0.27288841, -1.42262747,\n",
    "        -0.24141041, -1.31238772,  2.61111401, -1.0016859 , -0.5778192 ,\n",
    "        -0.97491834,  0.41164221, -0.86091034],\n",
    "       [-0.44352175,  3.12628155, -1.35893781, -0.27288841, -1.0542567 ,\n",
    "         0.49865392, -1.3938808 ,  2.19312325, -0.65766683, -0.78557904,\n",
    "        -0.69277865,  0.39131918, -0.94116739],\n",
    "       [ 0.15682292, -0.4898311 ,  0.98336806, -0.27288841,  0.47919371,\n",
    "         0.28660512,  0.87020968, -0.68730678,  1.63579367,  1.50571521,\n",
    "         0.81196637,  0.44624347,  0.81480158],\n",
    "       [-0.42292925, -0.4898311 , -0.57719868, -0.27288841, -0.5573845 ,\n",
    "         0.13494109, -0.52225911,  0.37882487, -0.5429938 , -0.74402708,\n",
    "         0.52982668,  0.45343469, -0.81939807],\n",
    "       [-0.40786253, -0.4898311 , -0.57719868, -0.27288841, -0.5573845 ,\n",
    "         0.0450661 , -1.42222622,  0.79643404, -0.5429938 , -0.74402708,\n",
    "         0.52982668,  0.45343469, -0.91902752]]))"
   ]
  },
  {
   "cell_type": "code",
   "execution_count": null,
   "id": "0c5140b8",
   "metadata": {},
   "outputs": [],
   "source": []
  }
 ],
 "metadata": {
  "kernelspec": {
   "display_name": "mlenv",
   "language": "python",
   "name": "mlenv"
  },
  "language_info": {
   "codemirror_mode": {
    "name": "ipython",
    "version": 3
   },
   "file_extension": ".py",
   "mimetype": "text/x-python",
   "name": "python",
   "nbconvert_exporter": "python",
   "pygments_lexer": "ipython3",
   "version": "3.6.13"
  }
 },
 "nbformat": 4,
 "nbformat_minor": 5
}
